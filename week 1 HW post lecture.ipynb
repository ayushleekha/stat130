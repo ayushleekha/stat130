{
 "cells": [
  {
   "cell_type": "markdown",
   "id": "4d99cb10",
   "metadata": {},
   "source": [
    "4. df.shape is an atribute that represents the number of rows and columns regaredless of data type\n",
    "\n",
    "df.describle is an atribute that analysis numerical columns and provides a summary.\n",
    "\n",
    "discrepancies: if there are missing values in a column, df.describe will show a lower count that the total number of rows reported by df.shape, non numerical columns are excluded from df.describe leading to fewer columns than df.shape"
   ]
  },
  {
   "cell_type": "markdown",
   "id": "6585e86d",
   "metadata": {},
   "source": [
    "5. An attribute is a variable associated with an object that holds data about the object’s properties. For example, df.shape gives the dimensions of a DataFrame. On the other hand, a method is a function associated with an object that performs operations on the object’s data. For example, df.describe() calculates summary statistics for a DataFrame. Attributes are accessed without parentheses, while methods are called with parentheses."
   ]
  },
  {
   "cell_type": "markdown",
   "id": "3a883899",
   "metadata": {},
   "source": [
    "6.\n",
    "Count: It tells you how many values are present\n",
    "Mean: The average of the values  It is calculated as the sum of all values divided by the count of values.\n",
    "Std :  It indicates how much the values deviate from the mean.\n",
    "Min: The minimum value in each column.\n",
    "25% : The value below which 25% of the data falls. lower quartile.\n",
    "50% : The middle value of the data, where 50% of the data falls below this value. median.\n",
    "75% : The value below which 75% of the data falls.  upper quartile.\n",
    "Max: The maximum value in each column."
   ]
  },
  {
   "cell_type": "markdown",
   "id": "09d11a38",
   "metadata": {},
   "source": [
    "7\n",
    "Using df.dropna() Preferred Over del df col\n",
    "suppose a database of custumer trasnactions with rows including customer ID, amount , price. in only a few rows have missing values you will want to use dropna to remove those rows and still keep most of your data\n",
    "\n",
    "Using del df col Preferred Over df.dropna()\n",
    "suppose you have a database of a survey with a column of optional feedback and it is mostly has missing values you would prefer to remove colmun that way you retain all of your rows\n",
    "\n",
    "Applying del df col before df.dropna() can be important because it allows you to remove columns with a high proportion of missing values first. "
   ]
  },
  {
   "cell_type": "markdown",
   "id": "74f7a9a2",
   "metadata": {},
   "source": [
    "8. 1st part)\n",
    "\n",
    "df.groupby(\"col1\")[\"col2\"].describe() this gives the count,mean,std,25,50%,75% percentail and maximum of column 1 and of column 2 only.\n",
    "\n",
    "grouped = df.groupby(\"sex\")[\"fare\"].describe()\n",
    "print(grouped)\n",
    "\n",
    "2nd part)\n",
    "\n",
    "the count value represents the number of non missing values while describe will only give a statistical analysis defined by col1 and col2\n",
    "\n",
    "3rd part)\n",
    "its easier to use chatbots for trouble shooting problems and errors in code as it gives an improved code and an explation of why the error occured, its much more effiecent than google to identify errors."
   ]
  }
 ],
 "metadata": {
  "kernelspec": {
   "display_name": "Python 3 (ipykernel)",
   "language": "python",
   "name": "python3"
  },
  "language_info": {
   "codemirror_mode": {
    "name": "ipython",
    "version": 3
   },
   "file_extension": ".py",
   "mimetype": "text/x-python",
   "name": "python",
   "nbconvert_exporter": "python",
   "pygments_lexer": "ipython3",
   "version": "3.11.6"
  }
 },
 "nbformat": 4,
 "nbformat_minor": 5
}
