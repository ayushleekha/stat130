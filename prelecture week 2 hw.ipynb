{
 "cells": [
  {
   "cell_type": "code",
   "execution_count": null,
   "id": "a39cd68a",
   "metadata": {},
   "outputs": [],
   "source": [
    "import random\n",
    "from collections import Counter\n",
    "\n",
    "rolls = [random.randint(1, 6) for _ in range(1000)]\n",
    "results = Counter(rolls)\n",
    "\n",
    "print(results)"
   ]
  },
  {
   "cell_type": "markdown",
   "id": "48e72c9b",
   "metadata": {},
   "source": [
    "Explanation\n",
    "List Comprehension: The list comprehension [random.randint(1, 6) for _ in range(1000)] generates a list of 1000 random die rolls in a single line, making the code more concise.\n",
    "Counter: The Counter class from the collections module automatically counts the occurrences of each face, simplifying the counting logic.\n",
    "Preferences in Terms of Readability and Explainability\n",
    "Readability: The improved code is more readable because it reduces the number of lines and uses Python’s built-in functionalities effectively.\n",
    "Explainability: The use of Counter makes it clear that the purpose is to count occurrences, which is more intuitive than manually incrementing counts in a list."
   ]
  }
 ],
 "metadata": {
  "kernelspec": {
   "display_name": "Python 3 (ipykernel)",
   "language": "python",
   "name": "python3"
  },
  "language_info": {
   "codemirror_mode": {
    "name": "ipython",
    "version": 3
   },
   "file_extension": ".py",
   "mimetype": "text/x-python",
   "name": "python",
   "nbconvert_exporter": "python",
   "pygments_lexer": "ipython3",
   "version": "3.11.6"
  }
 },
 "nbformat": 4,
 "nbformat_minor": 5
}
