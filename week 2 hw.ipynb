{
 "cells": [
  {
   "cell_type": "code",
   "execution_count": null,
   "id": "c25ffe71",
   "metadata": {},
   "outputs": [],
   "source": [
    "class AdvancedMarkovianChatBot(MarkovianChatBot):\n",
    "    def __init__(self):\n",
    "        super().__init__()\n",
    "        self.character_transitions = {}\n",
    "\n",
    "    def train(self, text, character=None):\n",
    "        words = text.split()\n",
    "        if character:\n",
    "            if character not in self.character_transitions:\n",
    "                self.character_transitions[character] = {}\n",
    "            for i in range(len(words) - 2):\n",
    "                pair = (words[i], words[i + 1])\n",
    "                if pair not in self.character_transitions[character]:\n",
    "                    self.character_transitions[character][pair] = []\n",
    "                self.character_transitions[character][pair].append(words[i + 2])\n",
    "        else:\n",
    "            for i in range(len(words) - 2):\n",
    "                pair = (words[i], words[i + 1])\n",
    "                if pair not in self.transitions:\n",
    "                    self.transitions[pair] = []\n",
    "                self.transitions[pair].append(words[i + 2])\n",
    "\n",
    "    def generate_sentence(self, start_pair, character=None, length=10):\n",
    "        current_pair = start_pair\n",
    "        sentence = [current_pair[0], current_pair[1]]\n",
    "        if character:\n",
    "            for _ in range(length - 2):\n",
    "                if current_pair in self.character_transitions.get(character, {}):\n",
    "                    next_word = random.choice(self.character_transitions[character][current_pair])\n",
    "                    sentence.append(next_word)\n",
    "                    current_pair = (current_pair[1], next_word)\n",
    "                else:\n",
    "                    break\n",
    "        else:\n",
    "            for _ in range(length - 2):\n",
    "                if current_pair in self.transitions:\n",
    "                    next_word = random.choice(self.transitions[current_pair])\n",
    "                    sentence.append(next_word)\n",
    "                    current_pair = (current_pair[1], next_word)\n",
    "                else:\n",
    "                    break\n",
    "        return ' '.join(sentence)\n",
    "\n",
    "# Example usage\n",
    "adv_bot = AdvancedMarkovianChatBot()\n",
    "adv_bot.train(\"This is a simple example of a Markovian ChatBot. It generates text based on the training data.\", \"Alice\")\n",
    "print(adv_bot.generate_sentence((\"This\", \"is\"), \"Alice\"))\n"
   ]
  },
  {
   "cell_type": "markdown",
   "id": "183d1f0a",
   "metadata": {},
   "source": [
    "Interacting with ChatBots to understand the Monte Hall problem was quite efficient. The ChatBot quickly provided a clear explanation of the problem, the probabilities involved, and the optimal strategy (switching doors). It also offered examples and simulations to illustrate the concept, which was very helpful. The ChatBot’s ability to break down complex probability concepts into simpler terms made the learning process smoother and more engaging.\n",
    "\n",
    "When it came to understanding the “Markovian ChatBot” code, the ChatBot was also quite helpful. It provided step-by-step explanations of the code, including the purpose of each function and how the Markov chains were implemented. The ChatBot’s ability to explain coding concepts in a detailed yet understandable manner was beneficial, especially for complex topics like Markov chains."
   ]
  },
  {
   "cell_type": "markdown",
   "id": "4ecdc492",
   "metadata": {},
   "source": [
    "AI-driven tools have been particularly useful for troubleshooting coding errors and understanding new programming concepts. They provide instant feedback and can explain code in a way that is easy to understand. This has made learning to code more accessible and less intimidating."
   ]
  },
  {
   "cell_type": "code",
   "execution_count": null,
   "id": "2391fe01",
   "metadata": {
    "slideshow": {
     "slide_type": "slide"
    }
   },
   "outputs": [],
   "source": [
    "I have somewhat reviewed th"
   ]
  }
 ],
 "metadata": {
  "kernelspec": {
   "display_name": "Python 3 (ipykernel)",
   "language": "python",
   "name": "python3"
  },
  "language_info": {
   "codemirror_mode": {
    "name": "ipython",
    "version": 3
   },
   "file_extension": ".py",
   "mimetype": "text/x-python",
   "name": "python",
   "nbconvert_exporter": "python",
   "pygments_lexer": "ipython3",
   "version": "3.11.6"
  }
 },
 "nbformat": 4,
 "nbformat_minor": 5
}
