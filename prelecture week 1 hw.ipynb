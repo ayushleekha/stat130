{
 "cells": [
  {
   "cell_type": "code",
   "execution_count": 2,
   "id": "3b1e59b2",
   "metadata": {},
   "outputs": [
    {
     "name": "stdout",
     "output_type": "stream",
     "text": [
      "row_n           0\n",
      "id              1\n",
      "name            0\n",
      "gender          0\n",
      "species         0\n",
      "birthday        0\n",
      "personality     0\n",
      "song           11\n",
      "phrase          0\n",
      "full_id         0\n",
      "url             0\n",
      "dtype: int64\n"
     ]
    }
   ],
   "source": [
    "import pandas as pd\n",
    "\n",
    "url = \"https://raw.githubusercontent.com/rfordatascience/tidytuesday/master/data/2020/2020-05-05/villagers.csv\"\n",
    "df = pd.read_csv(url)\n",
    "missing_values = df.isna().sum()\n",
    "print(missing_values)"
   ]
  },
  {
   "cell_type": "code",
   "execution_count": 3,
   "id": "876c9757",
   "metadata": {},
   "outputs": [
    {
     "name": "stdout",
     "output_type": "stream",
     "text": [
      "(391, 11)\n"
     ]
    }
   ],
   "source": [
    "import pandas as pd\n",
    "\n",
    "# Assuming you've already downloaded the data and loaded it into a DataFrame\n",
    "url = \"https://raw.githubusercontent.com/rfordatascience/tidytuesday/master/data/2020/2020-05-05/villagers.csv\"\n",
    "df = pd.read_csv(url)\n",
    "\n",
    "# Get the dimensions of the DataFrame\n",
    "dimensions = df.shape\n",
    "print(dimensions)"
   ]
  },
  {
   "cell_type": "code",
   "execution_count": 4,
   "id": "6fa2c880",
   "metadata": {},
   "outputs": [
    {
     "name": "stdout",
     "output_type": "stream",
     "text": [
      "Numerical Summary:\n",
      "             row_n\n",
      "count  391.000000\n",
      "mean   239.902813\n",
      "std    140.702672\n",
      "min      2.000000\n",
      "25%    117.500000\n",
      "50%    240.000000\n",
      "75%    363.500000\n",
      "max    483.000000\n",
      "\n",
      "Categorical Summary:\n",
      "             id  name  gender  species  birthday  personality  song  phrase  \\\n",
      "1-1        NaN   NaN     NaN      NaN       1.0          NaN   NaN     NaN   \n",
      "1-10       NaN   NaN     NaN      NaN       1.0          NaN   NaN     NaN   \n",
      "1-11       NaN   NaN     NaN      NaN       1.0          NaN   NaN     NaN   \n",
      "1-12       NaN   NaN     NaN      NaN       1.0          NaN   NaN     NaN   \n",
      "1-13       NaN   NaN     NaN      NaN       1.0          NaN   NaN     NaN   \n",
      "...        ...   ...     ...      ...       ...          ...   ...     ...   \n",
      "zort       NaN   NaN     NaN      NaN       NaN          NaN   NaN     1.0   \n",
      "zucker     1.0   NaN     NaN      NaN       NaN          NaN   NaN     NaN   \n",
      "zut alors  NaN   NaN     NaN      NaN       NaN          NaN   NaN     1.0   \n",
      "zzrrbbitt  NaN   NaN     NaN      NaN       NaN          NaN   NaN     1.0   \n",
      "zzzook     NaN   NaN     NaN      NaN       NaN          NaN   NaN     1.0   \n",
      "\n",
      "           full_id  url  \n",
      "1-1            NaN  NaN  \n",
      "1-10           NaN  NaN  \n",
      "1-11           NaN  NaN  \n",
      "1-12           NaN  NaN  \n",
      "1-13           NaN  NaN  \n",
      "...            ...  ...  \n",
      "zort           NaN  NaN  \n",
      "zucker         NaN  NaN  \n",
      "zut alors      NaN  NaN  \n",
      "zzrrbbitt      NaN  NaN  \n",
      "zzzook         NaN  NaN  \n",
      "\n",
      "[2441 rows x 10 columns]\n"
     ]
    }
   ],
   "source": [
    "import pandas as pd\n",
    "\n",
    "# Load the dataset\n",
    "url = \"https://raw.githubusercontent.com/rfordatascience/tidytuesday/master/data/2020/2020-05-05/villagers.csv\"\n",
    "df = pd.read_csv(url)\n",
    "\n",
    "# Summary for numerical columns\n",
    "numerical_summary = df.describe()\n",
    "\n",
    "# Summary for categorical columns\n",
    "categorical_summary = df.select_dtypes(include=['object']).apply(pd.Series.value_counts)\n",
    "\n",
    "print(\"Numerical Summary:\\n\", numerical_summary)\n",
    "print(\"\\nCategorical Summary:\\n\", categorical_summary)"
   ]
  },
  {
   "cell_type": "code",
   "execution_count": 5,
   "id": "ef502883",
   "metadata": {},
   "outputs": [
    {
     "name": "stdout",
     "output_type": "stream",
     "text": [
      "Shape of the DataFrame: (391, 11)\n",
      "\n",
      "Default Describe Summary:\n",
      "             row_n\n",
      "count  391.000000\n",
      "mean   239.902813\n",
      "std    140.702672\n",
      "min      2.000000\n",
      "25%    117.500000\n",
      "50%    240.000000\n",
      "75%    363.500000\n",
      "max    483.000000\n",
      "\n",
      "Describe Summary (All Columns):\n",
      "              row_n       id     name gender species birthday personality  \\\n",
      "count   391.000000      390      391    391     391      391         391   \n",
      "unique         NaN      390      391      2      35      361           8   \n",
      "top            NaN  admiral  Admiral   male     cat     1-27        lazy   \n",
      "freq           NaN        1        1    204      23        2          60   \n",
      "mean    239.902813      NaN      NaN    NaN     NaN      NaN         NaN   \n",
      "std     140.702672      NaN      NaN    NaN     NaN      NaN         NaN   \n",
      "min       2.000000      NaN      NaN    NaN     NaN      NaN         NaN   \n",
      "25%     117.500000      NaN      NaN    NaN     NaN      NaN         NaN   \n",
      "50%     240.000000      NaN      NaN    NaN     NaN      NaN         NaN   \n",
      "75%     363.500000      NaN      NaN    NaN     NaN      NaN         NaN   \n",
      "max     483.000000      NaN      NaN    NaN     NaN      NaN         NaN   \n",
      "\n",
      "                song   phrase           full_id  \\\n",
      "count            380      391               391   \n",
      "unique            92      388               391   \n",
      "top     K.K. Country  wee one  villager-admiral   \n",
      "freq              10        2                 1   \n",
      "mean             NaN      NaN               NaN   \n",
      "std              NaN      NaN               NaN   \n",
      "min              NaN      NaN               NaN   \n",
      "25%              NaN      NaN               NaN   \n",
      "50%              NaN      NaN               NaN   \n",
      "75%              NaN      NaN               NaN   \n",
      "max              NaN      NaN               NaN   \n",
      "\n",
      "                                                      url  \n",
      "count                                                 391  \n",
      "unique                                                391  \n",
      "top     https://villagerdb.com/images/villagers/thumb/...  \n",
      "freq                                                    1  \n",
      "mean                                                  NaN  \n",
      "std                                                   NaN  \n",
      "min                                                   NaN  \n",
      "25%                                                   NaN  \n",
      "50%                                                   NaN  \n",
      "75%                                                   NaN  \n",
      "max                                                   NaN  \n"
     ]
    }
   ],
   "source": [
    "import pandas as pd\n",
    "\n",
    "# Load the dataset\n",
    "url = \"https://raw.githubusercontent.com/rfordatascience/tidytuesday/master/data/2020/2020-05-05/villagers.csv\"\n",
    "df = pd.read_csv(url)\n",
    "\n",
    "# Get the shape of the DataFrame\n",
    "shape = df.shape\n",
    "\n",
    "# Get the default describe summary (numerical columns only)\n",
    "describe_default = df.describe()\n",
    "\n",
    "# Get the describe summary for all columns\n",
    "describe_all = df.describe(include='all')\n",
    "\n",
    "print(\"Shape of the DataFrame:\", shape)\n",
    "print(\"\\nDefault Describe Summary:\\n\", describe_default)\n",
    "print(\"\\nDescribe Summary (All Columns):\\n\", describe_all)"
   ]
  },
  {
   "cell_type": "code",
   "execution_count": null,
   "id": "c00ce1f8",
   "metadata": {},
   "outputs": [],
   "source": []
  }
 ],
 "metadata": {
  "kernelspec": {
   "display_name": "Python 3 (ipykernel)",
   "language": "python",
   "name": "python3"
  },
  "language_info": {
   "codemirror_mode": {
    "name": "ipython",
    "version": 3
   },
   "file_extension": ".py",
   "mimetype": "text/x-python",
   "name": "python",
   "nbconvert_exporter": "python",
   "pygments_lexer": "ipython3",
   "version": "3.11.6"
  }
 },
 "nbformat": 4,
 "nbformat_minor": 5
}
